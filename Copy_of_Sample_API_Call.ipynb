{
  "nbformat": 4,
  "nbformat_minor": 0,
  "metadata": {
    "colab": {
      "provenance": [],
      "authorship_tag": "ABX9TyNvC/MgQUj5z8qPYbZ0CYJC",
      "include_colab_link": true
    },
    "kernelspec": {
      "name": "python3",
      "display_name": "Python 3"
    },
    "language_info": {
      "name": "python"
    }
  },
  "cells": [
    {
      "cell_type": "markdown",
      "metadata": {
        "id": "view-in-github",
        "colab_type": "text"
      },
      "source": [
        "<a href=\"https://colab.research.google.com/github/Dougyv21/AdvancedPy/blob/main/Copy_of_Sample_API_Call.ipynb\" target=\"_parent\"><img src=\"https://colab.research.google.com/assets/colab-badge.svg\" alt=\"Open In Colab\"/></a>"
      ]
    },
    {
      "cell_type": "code",
      "execution_count": null,
      "metadata": {
        "colab": {
          "base_uri": "https://localhost:8080/"
        },
        "id": "n-ZLwTmYrTxq",
        "outputId": "9fe0aa87-71cb-42a8-fd48-0901e751ebdf"
      },
      "outputs": [
        {
          "output_type": "stream",
          "name": "stdout",
          "text": [
            "API Response:\n",
            "{\n",
            "  \"userId\": 1,\n",
            "  \"id\": 1,\n",
            "  \"title\": \"delectus aut autem\",\n",
            "  \"completed\": false\n",
            "}\n"
          ]
        }
      ],
      "source": [
        "# prompt: a generic API Call python script that will be able to call most API's.\n",
        "\n",
        "import requests\n",
        "import json\n",
        "\n",
        "def api_call(url, method='GET', headers=None, data=None, params=None):\n",
        "  \"\"\"\n",
        "  Makes a generic API call.\n",
        "\n",
        "  Args:\n",
        "    url: The URL of the API endpoint.\n",
        "    method: The HTTP method to use (e.g., 'GET', 'POST', 'PUT', 'DELETE').\n",
        "    headers: A dictionary of HTTP headers to include in the request.\n",
        "    data: The data to send in the request body (e.g., for POST or PUT requests).\n",
        "    params: A dictionary of query parameters to include in the request URL.\n",
        "\n",
        "  Returns:\n",
        "    A dictionary containing the API response, or None if there was an error.\n",
        "  \"\"\"\n",
        "\n",
        "  try:\n",
        "    response = requests.request(method, url, headers=headers, data=data, params=params)\n",
        "    response.raise_for_status()  # Raise an exception for bad status codes (4xx or 5xx)\n",
        "\n",
        "    try:\n",
        "      return response.json()  # Try to parse the response as JSON\n",
        "    except json.JSONDecodeError:\n",
        "      return {'response_text': response.text}  # Return the raw response text if not JSON\n",
        "\n",
        "  except requests.exceptions.RequestException as e:\n",
        "    print(f\"Error during API call: {e}\")\n",
        "    return None\n",
        "\n",
        "# Example usage:\n",
        "if __name__ == \"__main__\":\n",
        "  api_url = \"https://jsonplaceholder.typicode.com/todos/1\"  # Replace with your API URL\n",
        "  response_data = api_call(api_url)\n",
        "\n",
        "  if response_data:\n",
        "    print(\"API Response:\")\n",
        "    print(json.dumps(response_data, indent=2))\n"
      ]
    }
  ]
}